{
 "cells": [
  {
   "cell_type": "code",
   "execution_count": 19,
   "id": "7667c5e2-63b5-4467-9f13-1ef67edb0401",
   "metadata": {},
   "outputs": [
    {
     "name": "stderr",
     "output_type": "stream",
     "text": [
      "WARNING:absl:Compiled the loaded model, but the compiled metrics have yet to be built. `model.compile_metrics` will be empty until you train or evaluate the model.\n"
     ]
    }
   ],
   "source": [
    "import os\n",
    "import numpy as np\n",
    "import tensorflow as tf\n",
    "from flask import Flask, request, jsonify\n",
    "from PIL import Image\n",
    "import io\n",
    "from threading import Thread\n",
    "\n",
    "# Flask uygulamasını başlatın\n",
    "app = Flask(__name__)\n",
    "\n",
    "# Eğittiğiniz modeli yükleyin\n",
    "model = tf.keras.models.load_model('unet_model.h5')\n",
    "\n",
    "# Modeli derleyin\n",
    "model.compile(optimizer='adam', loss='binary_crossentropy', metrics=['accuracy'])\n",
    "\n",
    "# Görüntü boyutunu modele uygun olacak şekilde ayarlayın (örneğin 128x128)\n",
    "IMAGE_SIZE = (128, 128)\n",
    "\n",
    "# Görüntüleri işlemek için bir yardımcı fonksiyon\n",
    "def preprocess_image(image):\n",
    "    image = image.resize(IMAGE_SIZE)  # Görüntüyü boyutlandırın\n",
    "    image = np.array(image) / 255.0   # Normalizasyon\n",
    "    image = np.expand_dims(image, axis=0)  # Modelin kabul edebileceği şekle getirin\n",
    "    return image\n",
    "\n",
    "# Ana API route'u: Görüntü gönderilip maske döndürülen kısım\n",
    "@app.route('/predict', methods=['POST'])\n",
    "def predict():\n",
    "    # İstekten dosyayı alın\n",
    "    if 'image' not in request.files:\n",
    "        return jsonify({'error': 'Görüntü dosyası bulunamadı'}), 400\n",
    "\n",
    "    file = request.files['image']\n",
    "\n",
    "    # Dosyayı bir PIL görüntüsüne çevirin\n",
    "    try:\n",
    "        image = Image.open(file.stream).convert(\"RGB\")\n",
    "    except:\n",
    "        return jsonify({'error': 'Geçersiz görüntü formatı'}), 400\n",
    "\n",
    "    # Görüntüyü ön işleme tabi tutun\n",
    "    preprocessed_image = preprocess_image(image)\n",
    "\n",
    "    # Modelden tahmin alın\n",
    "    prediction = model.predict(preprocessed_image)\n",
    "\n",
    "    # Tahminleri ikili maske haline getirin (0 veya 255 değerlerinde olacak)\n",
    "    mask = (prediction[0] > 0.5).astype(np.uint8) * 255\n",
    "\n",
    "    # Hasar analizi: Maskede 255 değerinde (hasarlı alanlar) kaç piksel olduğunu say\n",
    "    damage_ratio = np.sum(mask == 255) / mask.size  # Hasarlı piksellerin oranı\n",
    "\n",
    "    # Hasar oranı %10'dan fazla ise \"hasarlı\", aksi takdirde \"hasarsız\" olarak işaretle\n",
    "    threshold = 0.1  # %10 eşik\n",
    "    if damage_ratio > threshold:\n",
    "        result = \"hasarlı\"\n",
    "    else:\n",
    "        result = \"hasarsız\"\n",
    "\n",
    "    # Sonucu JSON formatında döndür\n",
    "    return jsonify({'result': result})\n",
    "\n",
    "# Sunucuyu Colab'de arka planda başlatmak için thread kullanın\n",
    "def run():\n",
    "    app.run(host='0.0.0.0', port=5000)\n",
    "\n",
    "# Flask uygulamasını ayrı bir thread'de başlatın\n",
    "thread = Thread(target=run)\n",
    "thread.start()\n"
   ]
  },
  {
   "cell_type": "code",
   "execution_count": null,
   "id": "18687af7-f95c-481b-953a-191e2afde3aa",
   "metadata": {},
   "outputs": [],
   "source": []
  }
 ],
 "metadata": {
  "kernelspec": {
   "display_name": "Python 3 (ipykernel)",
   "language": "python",
   "name": "python3"
  },
  "language_info": {
   "codemirror_mode": {
    "name": "ipython",
    "version": 3
   },
   "file_extension": ".py",
   "mimetype": "text/x-python",
   "name": "python",
   "nbconvert_exporter": "python",
   "pygments_lexer": "ipython3",
   "version": "3.12.4"
  }
 },
 "nbformat": 4,
 "nbformat_minor": 5
}
